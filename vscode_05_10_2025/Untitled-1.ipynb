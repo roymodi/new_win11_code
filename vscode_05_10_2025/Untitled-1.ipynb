{
 "cells": [
  {
   "cell_type": "code",
   "execution_count": 10,
   "id": "6c8d0c04",
   "metadata": {},
   "outputs": [],
   "source": [
    "client_id = 'c893aaee-5c23-4478-a508-bc530364ac37'\n",
    "client_secret = 'sh46pdzm11'\n",
    "redirect_uri = 'https://127.0.0.1:8080/callback'"
   ]
  },
  {
   "cell_type": "code",
   "execution_count": 11,
   "id": "721f1118",
   "metadata": {},
   "outputs": [
    {
     "data": {
      "text/plain": [
       "'https://api.upstox.com/v2/login/authorization/dialog?response_type=code&client_id=c893aaee-5c23-4478-a508-bc530364ac37&redirect_uri=https://127.0.0.1:8080/callback'"
      ]
     },
     "execution_count": 11,
     "metadata": {},
     "output_type": "execute_result"
    }
   ],
   "source": [
    "url = f\"https://api.upstox.com/v2/login/authorization/dialog?response_type=code&client_id={client_id}&redirect_uri={redirect_uri}\"\n",
    "url"
   ]
  }
 ],
 "metadata": {
  "kernelspec": {
   "display_name": ".venv",
   "language": "python",
   "name": "python3"
  },
  "language_info": {
   "codemirror_mode": {
    "name": "ipython",
    "version": 3
   },
   "file_extension": ".py",
   "mimetype": "text/x-python",
   "name": "python",
   "nbconvert_exporter": "python",
   "pygments_lexer": "ipython3",
   "version": "3.13.7"
  }
 },
 "nbformat": 4,
 "nbformat_minor": 5
}
